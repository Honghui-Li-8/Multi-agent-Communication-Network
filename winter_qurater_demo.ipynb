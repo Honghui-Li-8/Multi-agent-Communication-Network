{
 "cells": [
  {
   "cell_type": "code",
   "execution_count": null,
   "id": "66aff6c1-4933-441a-a389-a31650f5e1ec",
   "metadata": {
    "scrolled": true,
    "tags": []
   },
   "outputs": [
    {
     "name": "stdout",
     "output_type": "stream",
     "text": [
      "> ESP-ROM:esp32c6-20220919\n",
      "> Build:Sep 19 2022\n",
      "> rst:0x1 (POWERON),boot:0xc (SPI_FAST_FLASH_BOOT)\n",
      "> SPIWP:0xee\n",
      "> mode:DIO, clock div:2\n",
      "> load:0x40875720,len:0x1804\n",
      "> load:0x4086c410,len:0xde0\n",
      "> load:0x4086e610,len:0x2e04\n",
      "> entry 0x4086c41a\n",
      "> \u001b[0;32mI (23) boot: ESP-IDF v5.2 2nd stage bootloader\u001b[0m\n",
      "> \u001b[0;32mI (24) boot: compile time Mar 14 2024 22:53:54\u001b[0m\n",
      "> \u001b[0;32mI (24) boot: chip revision: v0.0\u001b[0m\n",
      "> \u001b[0;32mI (26) boot.esp32c6: SPI Speed      : 80MHz\u001b[0m\n",
      "> \u001b[0;32mI (31) boot.esp32c6: SPI Mode       : DIO\u001b[0m\n",
      "> \u001b[0;32mI (36) boot.esp32c6: SPI Flash Size : 2MB\u001b[0m\n",
      "> \u001b[0;32mI (40) boot: Enabling RNG early entropy source...\u001b[0m\n",
      "> \u001b[0;32mI (46) boot: Partition Table:\u001b[0m\n",
      "> \u001b[0;32mI (49) boot: ## Label            Usage          Type ST Offset   Length\u001b[0m\n",
      "> \u001b[0;32mI (57) boot:  0 nvs              WiFi data        01 02 00009000 00006000\u001b[0m\n",
      "> \u001b[0;32mI (64) boot:  1 phy_init         RF data          01 01 0000f000 00001000\u001b[0m\n",
      "> \u001b[0;32mI (72) boot:  2 factory          factory app      00 00 00010000 00177000\u001b[0m\n",
      "> \u001b[0;32mI (79) boot: End of partition table\u001b[0m\n",
      "> \u001b[0;32mI (83) esp_image: segment 0: paddr=00010020 vaddr=420f0020 size=3d288h (250504) map\u001b[0m\n",
      "> \u001b[0;32mI (143) esp_image: segment 1: paddr=0004d2b0 vaddr=40800000 size=02d68h ( 11624) load\u001b[0m\n",
      "> \u001b[0;32mI (146) esp_image: segment 2: paddr=00050020 vaddr=42000020 size=e917ch (954748) map\u001b[0m\n",
      "> \u001b[0;32mI (342) esp_image: segment 3: paddr=001391a4 vaddr=40802d68 size=11b98h ( 72600) load\u001b[0m\n",
      "> \u001b[0;32mI (364) boot: Loaded app from partition at offset 0x10000\u001b[0m\n",
      "> \u001b[0;32mI (364) boot: Disabling RNG early entropy source...\u001b[0m\n",
      "> \u001b[0;32mI (375) cpu_start: Unicore app\u001b[0m\n",
      "> \u001b[0;33mW (384) clk: esp_perip_clk_init() has not been implemented yet\u001b[0m\n",
      "> \u001b[0;32mI (391) cpu_start: Pro cpu start user code\u001b[0m\n",
      "> \u001b[0;32mI (391) cpu_start: cpu freq: 160000000 Hz\u001b[0m\n",
      "> \u001b[0;32mI (391) cpu_start: Application information:\u001b[0m\n",
      "> \u001b[0;32mI (394) cpu_start: Project name:     vendor_client\u001b[0m\n",
      "> \u001b[0;32mI (399) cpu_start: App version:      7068c26-dirty\u001b[0m\n",
      "> \u001b[0;32mI (405) cpu_start: Compile time:     Apr  3 2024 17:26:29\u001b[0m\n",
      "> \u001b[0;32mI (411) cpu_start: ELF file SHA256:  6cc80113b...\u001b[0m\n",
      "> \u001b[0;32mI (416) cpu_start: ESP-IDF:          v5.2\u001b[0m\n",
      "> \u001b[0;32mI (421) cpu_start: Min chip rev:     v0.0\u001b[0m\n",
      "> \u001b[0;32mI (426) cpu_start: Max chip rev:     v0.99 \u001b[0m\n",
      "> \u001b[0;32mI (430) cpu_start: Chip rev:         v0.0\u001b[0m\n",
      "> \u001b[0;32mI (435) heap_init: Initializing. RAM available for dynamic allocation:\u001b[0m\n",
      "> \u001b[0;32mI (442) heap_init: At 4081C960 len 0005FCB0 (383 KiB): RAM\u001b[0m\n",
      "> \u001b[0;32mI (448) heap_init: At 4087C610 len 00002F54 (11 KiB): RAM\u001b[0m\n",
      "> \u001b[0;32mI (455) heap_init: At 50000000 len 00003FE8 (15 KiB): RTCRAM\u001b[0m\n",
      "> \u001b[0;32mI (462) spi_flash: detected chip: generic\u001b[0m\n",
      "> \u001b[0;32mI (466) spi_flash: flash io: dio\u001b[0m\n",
      "> \u001b[0;33mW (470) spi_flash: Detected size(8192k) larger than the size in the binary image header(2048k). Using the size in the binary image header.\u001b[0m\n",
      "> \u001b[0;32mI (483) sleep: Configure to isolate all GPIO pins in sleep state\u001b[0m\n",
      "> \u001b[0;32mI (489) sleep: Enable automatic switching of GPIO sleep configuration\u001b[0m\n",
      "> \u001b[0;32mI (496) coexist: coex firmware version: 77cd7f8\u001b[0m\n",
      "> \u001b[0;32mI (502) coexist: coexist rom version 5b8dcfa\u001b[0m\n",
      "> \u001b[0;32mI (507) main_task: Started on CPU0\u001b[0m\n",
      "> \u001b[0;32mI (507) main_task: Calling app_main()\u001b[0m\n",
      "> \u001b[0;32mI (507) ROOT: Initializing Root Module...\u001b[0m\n",
      "> \u001b[0;32mI (527) BLE_INIT: Using main XTAL as clock source\u001b[0m\n",
      "> controller lib commit: [620fbe7]\n",
      "> \u001b[0;32mI (527) phy_init: phy_version 230,c773401,Oct 30 2023,15:07:16\u001b[0m\n",
      "> \u001b[0;32mI (577) phy: libbtbb version: 7243671, Oct 30 2023, 15:07:30\u001b[0m\n",
      "> Bluetooth Mesh v1.1 commit: [154b4fcc98]\n",
      "> \u001b[0;32mI (647) ROOT: ESP_BLE_MESH_PROV_REGISTER_COMP_EVT, err_code 0\u001b[0m\n",
      "> \u001b[0;32mI (647) ROOT: ESP_BLE_MESH_PROVISIONER_SET_DEV_UUID_MATCH_COMP_EVT, err_code 0\u001b[0m\n",
      "> \u001b[0;32mI (647) ROOT: ESP_BLE_MESH_PROVISIONER_PROV_ENABLE_COMP_EVT, err_code 0\u001b[0m\n",
      "> \u001b[0;32mI (657) ROOT: ESP_BLE_MESH_PROVISIONER_ADD_LOCAL_APP_KEY_COMP_EVT, err_code 0\u001b[0m\n",
      "> \u001b[0;32mI (667) ROOT: ESP_BLE_MESH_PROVISIONER_BIND_APP_KEY_TO_MODEL_COMP_EVT, err_code 0\u001b[0m\n",
      "### Error can't decode readed data\n",
      "> use esp timer !!!\n",
      "> \u001b[0;31mE (687) esp_timer: Task is already initialized\u001b[0m\n",
      "> \u001b[0;32mI (687) gpio: GPIO[9]| InputEn: 1| OutputEn: 0| OpenDrain: 0| Pullup: 1| Pulldown: 0| Intr:3 \u001b[0m\n",
      "> \u001b[0;33mW (697) RX: rx_task called ------------------\u001b[0m\n",
      "> \u001b[0;32mI (697) ROOT: done uart_rx_task\u001b[0m\n",
      "> \u001b[0;32mI (707) ROOT:  ----------- app_main done -----------\u001b[0m\n",
      "> \u001b[0;32mI (707) main_task: Returned from app_main()\u001b[0m\n"
     ]
    },
    {
     "name": "stdin",
     "output_type": "stream",
     "text": [
      "Enter command:  INFO--\n"
     ]
    },
    {
     "name": "stdout",
     "output_type": "stream",
     "text": [
      "inputed: [INFO--]\n",
      "> \u001b[0;32mI (4787) RX: Read 7 bytes: 'INFO--\n",
      "> '\u001b[0m\n",
      "> \u001b[0;33mW (4787) MAIN: uart_task_handler called ------------------\u001b[0m\n",
      "> \u001b[0;32mI (4787) MAIN: execute_command called\u001b[0m\n",
      "> \u001b[0;33mW (4787) ROOT: ----------- Current Network Info--------------\u001b[0m\n",
      "> \u001b[0;32mI (4797) Net_Info: Node Count: 0\n",
      "> \n",
      "> \u001b[0m\n",
      "> \u001b[0;33mW (4797) ROOT: ----------- End of Network Info--------------\u001b[0m\n",
      "> \u001b[0;32mI (4807) EXE: Command [INFO--] executed\u001b[0m\n"
     ]
    },
    {
     "name": "stdin",
     "output_type": "stream",
     "text": [
      "Enter command:  SEND-5-asda\n"
     ]
    },
    {
     "name": "stdout",
     "output_type": "stream",
     "text": [
      "inputed: [SEND-5-asda]\n",
      "> \u001b[0;32mI (12467) RX: Read 12 bytes: 'SEND-5-asda\n",
      "> '\u001b[0m\n",
      "> \u001b[0;33mW (12467) MAIN: uart_task_handler called ------------------\u001b[0m\n",
      "> \u001b[0;32mI (12467) MAIN: execute_command called\u001b[0m\n",
      "> \u001b[0;32mI (12467) EXE: executing [SEND]\u001b[0m\n",
      "> \u001b[0;32mI (12467) EXE: Sending message to address-5 ...\u001b[0m\n",
      "> \u001b[0;31mE (12477) ROOT: Node 0x0005 not exists in network\u001b[0m\n",
      "> \u001b[0;33mW (12477) MAIN: <- Sended Message [asda]\u001b[0m\n",
      "> \u001b[0;32mI (12487) EXE: Command [SEND-5-asda] executed\u001b[0m\n",
      "> \u001b[0;32mI (13367) ROOT: ESP_BLE_MESH_PROVISIONER_RECV_UNPROV_ADV_PKT_EVT\u001b[0m\n",
      "> \u001b[0;32mI (13367) Device address: 74 4d bd 60 2e 12 \u001b[0m\n",
      "> \u001b[0;32mI (13367) ROOT: Address type 0x00, adv type 0x03\u001b[0m\n",
      "> \u001b[0;32mI (13377) Device UUID: 32 10 74 4d bd 60 2e 12 00 00 00 00 00 00 00 00 \u001b[0m\n",
      "> \u001b[0;32mI (13387) ROOT: oob info 0x0000, bearer PB-ADV\u001b[0m\n",
      "> \u001b[0;32mI (13397) ROOT: ESP_BLE_MESH_PROVISIONER_PROV_LINK_OPEN_EVT, bearer PB-ADV\u001b[0m\n",
      "> \u001b[0;32mI (13397) ROOT: ESP_BLE_MESH_PROVISIONER_ADD_UNPROV_DEV_COMP_EVT, err_code 0\u001b[0m\n",
      "> \u001b[0;32mI (16427) ROOT: node_index 0, primary_addr 0x0005, element_num 1, net_idx 0x000\u001b[0m\n",
      "> \u001b[0;32mI (16427) uuid: 32 10 74 4d bd 60 2e 12 00 00 00 00 00 00 00 00 \u001b[0m\n",
      "> \u001b[0;32mI (16427) ROOT: ESP_BLE_MESH_PROVISIONER_SET_NODE_NAME_COMP_EVT, err_code 0\u001b[0m\n",
      "> \u001b[0;32mI (16437) ROOT: Node 0 name NODE-00\u001b[0m\n",
      "> \u001b[0;32mI (16737) ROOT: ESP_BLE_MESH_PROVISIONER_PROV_LINK_CLOSE_EVT, bearer PB-ADV, reason 0x00\u001b[0m\n",
      "> \u001b[0;32mI (16847) ROOT: Config client, err_code 0, event 0, addr 0x0005, opcode 0x8008\u001b[0m\n",
      "> \u001b[0;32mI (16847) Composition data: e5 02 00 00 00 00 0a 00 03 00 00 00 01 02 00 00 \u001b[0m\n",
      "> \u001b[0;32mI (16857) Composition data: e5 02 00 00 e5 02 01 00 \u001b[0m\n",
      "> \u001b[0;32mI (16857) ROOT: ********************** Composition Data Start **********************\u001b[0m\n",
      "> \u001b[0;32mI (16867) ROOT: * CID 0x02e5, PID 0x0000, VID 0x0000, CRPL 0x000a, Features 0x0003 *\u001b[0m\n",
      "> \u001b[0;32mI (16877) ROOT: * Loc 0x0000, NumS 0x01, NumV 0x02 *\u001b[0m\n",
      "> \u001b[0;32mI (16887) ROOT: * SIG Model ID 0x0000 *\u001b[0m\n",
      "> \u001b[0;32mI (16887) ROOT: * Vendor Model ID 0x0000, Company ID 0x02e5 *\u001b[0m\n",
      "> \u001b[0;32mI (16897) ROOT: * Vendor Model ID 0x0001, Company ID 0x02e5 *\u001b[0m\n",
      "> \u001b[0;32mI (16897) ROOT: *********************** Composition Data End ***********************\u001b[0m\n",
      "> \u001b[0;32mI (16917) ROOT: ESP_BLE_MESH_PROVISIONER_STORE_NODE_COMP_DATA_COMP_EVT, err_code 0\u001b[0m\n",
      "> \u001b[0;32mI (17187) ROOT: Config client, err_code 0, event 1, addr 0x0005, opcode 0x0000\u001b[0m\n",
      "> \u001b[0;32mI (17257) ROOT: Config client, err_code 0, event 1, addr 0x0005, opcode 0x803d\u001b[0m\n",
      "> \u001b[0;33mW (17257) ROOT: example_ble_mesh_config_client_cb, Provision and config successfully\u001b[0m\n"
     ]
    },
    {
     "name": "stdin",
     "output_type": "stream",
     "text": [
      "Enter command:  SEND-5-asda\n"
     ]
    },
    {
     "name": "stdout",
     "output_type": "stream",
     "text": [
      "inputed: [SEND-5-asda]\n",
      "> \u001b[0;32mI (22237) RX: Read 12 bytes: 'SEND-5-asda\n",
      "> '\u001b[0m\n",
      "> \u001b[0;33mW (22237) MAIN: uart_task_handler called ------------------\u001b[0m\n",
      "> \u001b[0;32mI (22237) MAIN: execute_command called\u001b[0m\n",
      "> \u001b[0;32mI (22237) EXE: executing [SEND]\u001b[0m\n",
      "> \u001b[0;32mI (22237) EXE: Sending message to address-5 ...\u001b[0m\n",
      "> \u001b[0;33mW (22247) MAIN: <- Sended Message [asda]\u001b[0m\n",
      "> \u001b[0;32mI (22247) EXE: Command [SEND-5-asda] executed\u001b[0m\n",
      "> \u001b[0;32mI (22267) ROOT: Send opcode [0xc102e5] completed\u001b[0m\n",
      "> \u001b[0;33mW (22617) MAIN: -> Recived Response [Edge Confirmed receive asda]]\u001b[0m\n",
      "> \u001b[0;32mI (40767) ROOT: ESP_BLE_MESH_PROVISIONER_RECV_UNPROV_ADV_PKT_EVT\u001b[0m\n",
      "> \u001b[0;32mI (40767) Device address: 74 4d bd 60 2e 12 \u001b[0m\n",
      "> \u001b[0;32mI (40767) ROOT: Address type 0x00, adv type 0x03\u001b[0m\n",
      "> \u001b[0;32mI (40767) Device UUID: 32 10 74 4d bd 60 2e 12 00 00 00 00 00 00 00 00 \u001b[0m\n",
      "> \u001b[0;32mI (40777) ROOT: oob info 0x0000, bearer PB-ADV\u001b[0m\n",
      "> \u001b[0;32mI (40787) ROOT: ESP_BLE_MESH_PROVISIONER_PROV_LINK_OPEN_EVT, bearer PB-ADV\u001b[0m\n",
      "> \u001b[0;32mI (40787) ROOT: ESP_BLE_MESH_PROVISIONER_ADD_UNPROV_DEV_COMP_EVT, err_code 0\u001b[0m\n",
      "> \u001b[0;32mI (43747) ROOT: node_index 0, primary_addr 0x0005, element_num 1, net_idx 0x000\u001b[0m\n",
      "> \u001b[0;32mI (43747) uuid: 32 10 74 4d bd 60 2e 12 00 00 00 00 00 00 00 00 \u001b[0m\n",
      "> \u001b[0;32mI (43747) ROOT: ESP_BLE_MESH_PROVISIONER_SET_NODE_NAME_COMP_EVT, err_code 0\u001b[0m\n",
      "> \u001b[0;32mI (43757) ROOT: Node 0 name NODE-00\u001b[0m\n",
      "> \u001b[0;32mI (44027) ROOT: ESP_BLE_MESH_PROVISIONER_PROV_LINK_CLOSE_EVT, bearer PB-ADV, reason 0x00\u001b[0m\n",
      "> \u001b[0;32mI (44177) ROOT: Config client, err_code 0, event 0, addr 0x0005, opcode 0x8008\u001b[0m\n",
      "> \u001b[0;32mI (44177) Composition data: e5 02 00 00 00 00 0a 00 03 00 00 00 01 02 00 00 \u001b[0m\n",
      "> \u001b[0;32mI (44177) Composition data: e5 02 00 00 e5 02 01 00 \u001b[0m\n",
      "> \u001b[0;32mI (44187) ROOT: ********************** Composition Data Start **********************\u001b[0m\n",
      "> \u001b[0;32mI (44187) ROOT: * CID 0x02e5, PID 0x0000, VID 0x0000, CRPL 0x000a, Features 0x0003 *\u001b[0m\n",
      "> \u001b[0;32mI (44197) ROOT: * Loc 0x0000, NumS 0x01, NumV 0x02 *\u001b[0m\n",
      "> \u001b[0;32mI (44207) ROOT: * SIG Model ID 0x0000 *\u001b[0m\n",
      "> \u001b[0;32mI (44207) ROOT: * Vendor Model ID 0x0000, Company ID 0x02e5 *\u001b[0m\n",
      "> \u001b[0;32mI (44217) ROOT: * Vendor Model ID 0x0001, Company ID 0x02e5 *\u001b[0m\n",
      "> \u001b[0;32mI (44227) ROOT: *********************** Composition Data End ***********************\u001b[0m\n",
      "> \u001b[0;32mI (44237) ROOT: ESP_BLE_MESH_PROVISIONER_STORE_NODE_COMP_DATA_COMP_EVT, err_code 0\u001b[0m\n",
      "> \u001b[0;32mI (44477) ROOT: Config client, err_code 0, event 1, addr 0x0005, opcode 0x0000\u001b[0m\n",
      "> \u001b[0;32mI (44577) ROOT: Config client, err_code 0, event 1, addr 0x0005, opcode 0x803d\u001b[0m\n",
      "> \u001b[0;33mW (44577) ROOT: example_ble_mesh_config_client_cb, Provision and config successfully\u001b[0m\n"
     ]
    },
    {
     "name": "stdin",
     "output_type": "stream",
     "text": [
      "Enter command:  SEND-5-asd\n"
     ]
    },
    {
     "name": "stdout",
     "output_type": "stream",
     "text": [
      "inputed: [SEND-5-asd]\n",
      "> \u001b[0;32mI (59087) RX: Read 11 bytes: 'SEND-5-asd\n",
      "> '\u001b[0m\n",
      "> \u001b[0;33mW (59087) MAIN: uart_task_handler called ------------------\u001b[0m\n",
      "> \u001b[0;32mI (59087) MAIN: execute_command called\u001b[0m\n",
      "> \u001b[0;32mI (59087) EXE: executing [SEND]\u001b[0m\n",
      "> \u001b[0;32mI (59087) EXE: Sending message to address-5 ...\u001b[0m\n",
      "> \u001b[0;33mW (59097) MAIN: <- Sended Message [asd]\u001b[0m\n",
      "> \u001b[0;32mI (59097) EXE: Command [SEND-5-asd] executed\u001b[0m\n",
      "> \u001b[0;32mI (59107) ROOT: Send opcode [0xc102e5] completed\u001b[0m\n",
      "> \u001b[0;33mW (59387) MAIN: -> Recived Response [Edge Confirmed receive asd]]\u001b[0m\n"
     ]
    },
    {
     "name": "stdin",
     "output_type": "stream",
     "text": [
      "Enter command:  SEND-5-asda\n"
     ]
    },
    {
     "name": "stdout",
     "output_type": "stream",
     "text": [
      "inputed: [SEND-5-asda]\n",
      "> \u001b[0;32mI (75767) RX: Read 12 bytes: 'SEND-5-asda\n",
      "> '\u001b[0m\n",
      "> \u001b[0;33mW (75767) MAIN: uart_task_handler called ------------------\u001b[0m\n",
      "> \u001b[0;32mI (75767) MAIN: execute_command called\u001b[0m\n",
      "> \u001b[0;32mI (75767) EXE: executing [SEND]\u001b[0m\n",
      "> \u001b[0;32mI (75767) EXE: Sending message to address-5 ...\u001b[0m\n",
      "> \u001b[0;33mW (75777) MAIN: <- Sended Message [asda]\u001b[0m\n",
      "> \u001b[0;32mI (75777) EXE: Command [SEND-5-asda] executed\u001b[0m\n",
      "> \u001b[0;32mI (75787) ROOT: Send opcode [0xc102e5] completed\u001b[0m\n",
      "> \u001b[0;33mW (76947) MAIN: -> Recived Response [Edge Confirmed receive asda]]\u001b[0m\n"
     ]
    },
    {
     "name": "stdin",
     "output_type": "stream",
     "text": [
      "Enter command:  SEND-5-kj\n"
     ]
    },
    {
     "name": "stdout",
     "output_type": "stream",
     "text": [
      "inputed: [SEND-5-kj]\n",
      "> \u001b[0;32mI (91397) RX: Read 10 bytes: 'SEND-5-kj\n",
      "> '\u001b[0m\n",
      "> \u001b[0;33mW (91397) MAIN: uart_task_handler called ------------------\u001b[0m\n",
      "> \u001b[0;32mI (91397) MAIN: execute_command called\u001b[0m\n",
      "> \u001b[0;32mI (91397) EXE: executing [SEND]\u001b[0m\n",
      "> \u001b[0;32mI (91397) EXE: Sending message to address-5 ...\u001b[0m\n",
      "> \u001b[0;33mW (91407) MAIN: <- Sended Message [kj]\u001b[0m\n",
      "> \u001b[0;32mI (91407) EXE: Command [SEND-5-kj] executed\u001b[0m\n",
      "> \u001b[0;32mI (91417) ROOT: Send opcode [0xc102e5] completed\u001b[0m\n",
      "> \u001b[0;33mW (95417) ROOT: Client message 0xc102e5 timeout\u001b[0m\n",
      "> \u001b[0;32mI (95417) MAIN:  ----------- timeout handler trigered -----------\u001b[0m\n"
     ]
    },
    {
     "name": "stdin",
     "output_type": "stream",
     "text": [
      "Enter command:  SEND-5-asd\n"
     ]
    },
    {
     "name": "stdout",
     "output_type": "stream",
     "text": [
      "inputed: [SEND-5-asd]\n",
      "> \u001b[0;32mI (109787) RX: Read 11 bytes: 'SEND-5-asd\n",
      "> '\u001b[0m\n",
      "> \u001b[0;33mW (109787) MAIN: uart_task_handler called ------------------\u001b[0m\n",
      "> \u001b[0;32mI (109787) MAIN: execute_command called\u001b[0m\n",
      "> \u001b[0;32mI (109787) EXE: executing [SEND]\u001b[0m\n",
      "> \u001b[0;32mI (109787) EXE: Sending message to address-5 ...\u001b[0m\n",
      "> \u001b[0;33mW (109797) MAIN: <- Sended Message [asd]\u001b[0m\n",
      "> \u001b[0;32mI (109797) EXE: Command [SEND-5-asd] executed\u001b[0m\n",
      "> \u001b[0;32mI (109817) ROOT: Send opcode [0xc102e5] completed\u001b[0m\n",
      "> \u001b[0;33mW (113027) MAIN: -> Recived Response [Edge Confirmed receive asd]]\u001b[0m\n"
     ]
    },
    {
     "name": "stdin",
     "output_type": "stream",
     "text": [
      "Enter command:  SEND-5-asda\n"
     ]
    },
    {
     "name": "stdout",
     "output_type": "stream",
     "text": [
      "inputed: [SEND-5-asda]\n",
      "> \u001b[0;32mI (122697) RX: Read 12 bytes: 'SEND-5-asda\n",
      "> '\u001b[0m\n",
      "> \u001b[0;33mW (122697) MAIN: uart_task_handler called ------------------\u001b[0m\n",
      "> \u001b[0;32mI (122697) MAIN: execute_command called\u001b[0m\n",
      "> \u001b[0;32mI (122697) EXE: executing [SEND]\u001b[0m\n",
      "> \u001b[0;32mI (122697) EXE: Sending message to address-5 ...\u001b[0m\n",
      "> \u001b[0;33mW (122707) MAIN: <- Sended Message [asda]\u001b[0m\n",
      "> \u001b[0;32mI (122707) EXE: Command [SEND-5-asda] executed\u001b[0m\n",
      "> \u001b[0;32mI (122727) ROOT: Send opcode [0xc102e5] completed\u001b[0m\n",
      "> \u001b[0;33mW (126727) ROOT: Client message 0xc102e5 timeout\u001b[0m\n",
      "> \u001b[0;32mI (126727) MAIN:  ----------- timeout handler trigered -----------\u001b[0m\n",
      "> \u001b[0;32mI (162497) ROOT: ESP_BLE_MESH_PROVISIONER_RECV_UNPROV_ADV_PKT_EVT\u001b[0m\n",
      "> \u001b[0;32mI (162497) Device address: 74 4d bd 60 30 fa \u001b[0m\n",
      "> \u001b[0;32mI (162497) ROOT: Address type 0x00, adv type 0x03\u001b[0m\n",
      "> \u001b[0;32mI (162497) Device UUID: 32 10 74 4d bd 60 30 fa 00 00 00 00 00 00 00 00 \u001b[0m\n",
      "> \u001b[0;32mI (162507) ROOT: oob info 0x0000, bearer PB-ADV\u001b[0m\n",
      "> \u001b[0;32mI (162517) ROOT: ESP_BLE_MESH_PROVISIONER_PROV_LINK_OPEN_EVT, bearer PB-ADV\u001b[0m\n",
      "> \u001b[0;32mI (162527) ROOT: ESP_BLE_MESH_PROVISIONER_ADD_UNPROV_DEV_COMP_EVT, err_code 0\u001b[0m\n",
      "> \u001b[0;32mI (166037) ROOT: node_index 1, primary_addr 0x0006, element_num 1, net_idx 0x000\u001b[0m\n",
      "> \u001b[0;32mI (166037) uuid: 32 10 74 4d bd 60 30 fa 00 00 00 00 00 00 00 00 \u001b[0m\n",
      "> \u001b[0;32mI (166047) ROOT: ESP_BLE_MESH_PROVISIONER_SET_NODE_NAME_COMP_EVT, err_code 0\u001b[0m\n",
      "> \u001b[0;32mI (166047) ROOT: Node 1 name NODE-01\u001b[0m\n",
      "> \u001b[0;32mI (166317) ROOT: ESP_BLE_MESH_PROVISIONER_PROV_LINK_CLOSE_EVT, bearer PB-ADV, reason 0x00\u001b[0m\n",
      "> \u001b[0;32mI (166427) ROOT: Config client, err_code 0, event 0, addr 0x0006, opcode 0x8008\u001b[0m\n",
      "> \u001b[0;32mI (166427) Composition data: e5 02 00 00 00 00 0a 00 03 00 00 00 01 02 00 00 \u001b[0m\n",
      "> \u001b[0;32mI (166437) Composition data: e5 02 00 00 e5 02 01 00 \u001b[0m\n",
      "> \u001b[0;32mI (166437) ROOT: ********************** Composition Data Start **********************\u001b[0m\n",
      "> \u001b[0;32mI (166447) ROOT: * CID 0x02e5, PID 0x0000, VID 0x0000, CRPL 0x000a, Features 0x0003 *\u001b[0m\n",
      "> \u001b[0;32mI (166457) ROOT: * Loc 0x0000, NumS 0x01, NumV 0x02 *\u001b[0m\n",
      "> \u001b[0;32mI (166467) ROOT: * SIG Model ID 0x0000 *\u001b[0m\n",
      "> \u001b[0;32mI (166467) ROOT: * Vendor Model ID 0x0000, Company ID 0x02e5 *\u001b[0m\n",
      "> \u001b[0;32mI (166477) ROOT: * Vendor Model ID 0x0001, Company ID 0x02e5 *\u001b[0m\n",
      "> \u001b[0;32mI (166477) ROOT: *********************** Composition Data End ***********************\u001b[0m\n",
      "> \u001b[0;32mI (166487) ROOT: ESP_BLE_MESH_PROVISIONER_STORE_NODE_COMP_DATA_COMP_EVT, err_code 0\u001b[0m\n",
      "> \u001b[0;32mI (166757) ROOT: Config client, err_code 0, event 1, addr 0x0006, opcode 0x0000\u001b[0m\n",
      "> \u001b[0;33mW (170757) BLE_MESH: Receive configuration status message timeout\u001b[0m\n",
      "> \u001b[0;32mI (170757) ROOT: Config client, err_code 0, event 3, addr 0x0006, opcode 0x803d\u001b[0m\n",
      "> \u001b[0;32mI (170787) ROOT: Config client, err_code 0, event 1, addr 0x0006, opcode 0x803d\u001b[0m\n",
      "> \u001b[0;33mW (170787) ROOT: example_ble_mesh_config_client_cb, Provision and config successfully\u001b[0m\n"
     ]
    },
    {
     "name": "stdin",
     "output_type": "stream",
     "text": [
      "Enter command:  SEND-5-asd\n"
     ]
    },
    {
     "name": "stdout",
     "output_type": "stream",
     "text": [
      "inputed: [SEND-5-asd]\n",
      "> \u001b[0;32mI (176577) RX: Read 11 bytes: 'SEND-5-asd\n",
      "> '\u001b[0m\n",
      "> \u001b[0;33mW (176577) MAIN: uart_task_handler called ------------------\u001b[0m\n",
      "> \u001b[0;32mI (176577) MAIN: execute_command called\u001b[0m\n",
      "> \u001b[0;32mI (176577) EXE: executing [SEND]\u001b[0m\n",
      "> \u001b[0;32mI (176577) EXE: Sending message to address-5 ...\u001b[0m\n",
      "> \u001b[0;33mW (176587) MAIN: <- Sended Message [asd]\u001b[0m\n",
      "> \u001b[0;32mI (176587) EXE: Command [SEND-5-asd] executed\u001b[0m\n",
      "> \u001b[0;32mI (176607) ROOT: Send opcode [0xc102e5] completed\u001b[0m\n",
      "> \u001b[0;33mW (180607) ROOT: Client message 0xc102e5 timeout\u001b[0m\n",
      "> \u001b[0;32mI (180607) MAIN:  ----------- timeout handler trigered -----------\u001b[0m\n"
     ]
    },
    {
     "name": "stdin",
     "output_type": "stream",
     "text": [
      "Enter command:  SEND-6-asd\n"
     ]
    },
    {
     "name": "stdout",
     "output_type": "stream",
     "text": [
      "inputed: [SEND-6-asd]\n",
      "> \u001b[0;32mI (186307) RX: Read 11 bytes: 'SEND-6-asd\n",
      "> '\u001b[0m\n",
      "> \u001b[0;33mW (186307) MAIN: uart_task_handler called ------------------\u001b[0m\n",
      "> \u001b[0;32mI (186307) MAIN: execute_command called\u001b[0m\n",
      "> \u001b[0;32mI (186307) EXE: executing [SEND]\u001b[0m\n",
      "> \u001b[0;32mI (186307) EXE: Sending message to address-6 ...\u001b[0m\n",
      "> \u001b[0;33mW (186317) MAIN: <- Sended Message [asd]\u001b[0m\n",
      "> \u001b[0;32mI (186317) EXE: Command [SEND-6-asd] executed\u001b[0m\n",
      "> \u001b[0;32mI (186337) ROOT: Send opcode [0xc102e5] completed\u001b[0m\n",
      "> \u001b[0;33mW (186587) MAIN: -> Recived Response [Edge Confirmed receive asd]]\u001b[0m\n"
     ]
    },
    {
     "name": "stdin",
     "output_type": "stream",
     "text": [
      "Enter command:  SEND-5-asdas\n"
     ]
    },
    {
     "name": "stdout",
     "output_type": "stream",
     "text": [
      "inputed: [SEND-5-asdas]\n",
      "> \u001b[0;32mI (192207) RX: Read 13 bytes: 'SEND-5-asdas\n",
      "> '\u001b[0m\n",
      "> \u001b[0;33mW (192207) MAIN: uart_task_handler called ------------------\u001b[0m\n",
      "> \u001b[0;32mI (192207) MAIN: execute_command called\u001b[0m\n",
      "> \u001b[0;32mI (192207) EXE: executing [SEND]\u001b[0m\n",
      "> \u001b[0;32mI (192207) EXE: Sending message to address-5 ...\u001b[0m\n",
      "> \u001b[0;33mW (192217) MAIN: <- Sended Message [asdas]\u001b[0m\n",
      "> \u001b[0;32mI (192217) EXE: Command [SEND-5-asdas] executed\u001b[0m\n",
      "> \u001b[0;32mI (192237) ROOT: Send opcode [0xc102e5] completed\u001b[0m\n",
      "> \u001b[0;33mW (196237) ROOT: Client message 0xc102e5 timeout\u001b[0m\n",
      "> \u001b[0;32mI (196237) MAIN:  ----------- timeout handler trigered -----------\u001b[0m\n"
     ]
    },
    {
     "name": "stdin",
     "output_type": "stream",
     "text": [
      "Enter command:  SEND-5-asda\n"
     ]
    },
    {
     "name": "stdout",
     "output_type": "stream",
     "text": [
      "inputed: [SEND-5-asda]\n",
      "> \u001b[0;32mI (204867) RX: Read 12 bytes: 'SEND-5-asda\n",
      "> '\u001b[0m\n",
      "> \u001b[0;33mW (204867) MAIN: uart_task_handler called ------------------\u001b[0m\n",
      "> \u001b[0;32mI (204867) MAIN: execute_command called\u001b[0m\n",
      "> \u001b[0;32mI (204867) EXE: executing [SEND]\u001b[0m\n",
      "> \u001b[0;32mI (204867) EXE: Sending message to address-5 ...\u001b[0m\n",
      "> \u001b[0;33mW (204877) MAIN: <- Sended Message [asda]\u001b[0m\n",
      "> \u001b[0;32mI (204877) EXE: Command [SEND-5-asda] executed\u001b[0m\n",
      "> \u001b[0;32mI (204897) ROOT: Send opcode [0xc102e5] completed\u001b[0m\n",
      "> \u001b[0;33mW (208897) ROOT: Client message 0xc102e5 timeout\u001b[0m\n",
      "> \u001b[0;32mI (208897) MAIN:  ----------- timeout handler trigered -----------\u001b[0m\n"
     ]
    },
    {
     "name": "stdin",
     "output_type": "stream",
     "text": [
      "Enter command:  SEND-5-asda\n"
     ]
    },
    {
     "name": "stdout",
     "output_type": "stream",
     "text": [
      "inputed: [SEND-5-asda]\n",
      "> \u001b[0;32mI (217517) RX: Read 12 bytes: 'SEND-5-asda\n",
      "> '\u001b[0m\n",
      "> \u001b[0;33mW (217517) MAIN: uart_task_handler called ------------------\u001b[0m\n",
      "> \u001b[0;32mI (217517) MAIN: execute_command called\u001b[0m\n",
      "> \u001b[0;32mI (217517) EXE: executing [SEND]\u001b[0m\n",
      "> \u001b[0;32mI (217517) EXE: Sending message to address-5 ...\u001b[0m\n",
      "> \u001b[0;33mW (217527) MAIN: <- Sended Message [asda]\u001b[0m\n",
      "> \u001b[0;32mI (217527) EXE: Command [SEND-5-asda] executed\u001b[0m\n",
      "> \u001b[0;32mI (217537) ROOT: Send opcode [0xc102e5] completed\u001b[0m\n",
      "> \u001b[0;33mW (221537) ROOT: Client message 0xc102e5 timeout\u001b[0m\n",
      "> \u001b[0;32mI (221537) MAIN:  ----------- timeout handler trigered -----------\u001b[0m\n"
     ]
    },
    {
     "name": "stdin",
     "output_type": "stream",
     "text": [
      "Enter command:  SEND-5-asda\n"
     ]
    },
    {
     "name": "stdout",
     "output_type": "stream",
     "text": [
      "inputed: [SEND-5-asda]\n",
      "> \u001b[0;32mI (228067) RX: Read 12 bytes: 'SEND-5-asda\n",
      "> '\u001b[0m\n",
      "> \u001b[0;33mW (228067) MAIN: uart_task_handler called ------------------\u001b[0m\n",
      "> \u001b[0;32mI (228067) MAIN: execute_command called\u001b[0m\n",
      "> \u001b[0;32mI (228067) EXE: executing [SEND]\u001b[0m\n",
      "> \u001b[0;32mI (228067) EXE: Sending message to address-5 ...\u001b[0m\n",
      "> \u001b[0;33mW (228077) MAIN: <- Sended Message [asda]\u001b[0m\n",
      "> \u001b[0;32mI (228077) EXE: Command [SEND-5-asda] executed\u001b[0m\n",
      "> \u001b[0;32mI (228097) ROOT: Send opcode [0xc102e5] completed\u001b[0m\n",
      "> \u001b[0;33mW (232097) ROOT: Client message 0xc102e5 timeout\u001b[0m\n",
      "> \u001b[0;32mI (232097) MAIN:  ----------- timeout handler trigered -----------\u001b[0m\n"
     ]
    },
    {
     "name": "stdin",
     "output_type": "stream",
     "text": [
      "Enter command:  SEND-6-asd\\\n"
     ]
    },
    {
     "name": "stdout",
     "output_type": "stream",
     "text": [
      "inputed: [SEND-6-asd\\]\n",
      "> \u001b[0;32mI (237027) RX: Read 12 bytes: 'SEND-6-asd\\\n",
      "> '\u001b[0m\n",
      "> \u001b[0;33mW (237027) MAIN: uart_task_handler called ------------------\u001b[0m\n",
      "> \u001b[0;32mI (237027) MAIN: execute_command called\u001b[0m\n",
      "> \u001b[0;32mI (237027) EXE: executing [SEND]\u001b[0m\n",
      "> \u001b[0;32mI (237027) EXE: Sending message to address-6 ...\u001b[0m\n",
      "> \u001b[0;33mW (237037) MAIN: <- Sended Message [asd\\]\u001b[0m\n",
      "> \u001b[0;32mI (237037) EXE: Command [SEND-6-asd\\] executed\u001b[0m\n",
      "> \u001b[0;32mI (237057) ROOT: Send opcode [0xc102e5] completed\u001b[0m\n",
      "> \u001b[0;33mW (238107) MAIN: -> Recived Response [Edge Confirmed receive asd\\]]\u001b[0m\n"
     ]
    },
    {
     "name": "stdin",
     "output_type": "stream",
     "text": [
      "Enter command:  SEND-5-dda\n"
     ]
    },
    {
     "name": "stdout",
     "output_type": "stream",
     "text": [
      "inputed: [SEND-5-dda]\n",
      "> \u001b[0;32mI (252387) RX: Read 11 bytes: 'SEND-5-dda\n",
      "> '\u001b[0m\n",
      "> \u001b[0;33mW (252387) MAIN: uart_task_handler called ------------------\u001b[0m\n",
      "> \u001b[0;32mI (252387) MAIN: execute_command called\u001b[0m\n",
      "> \u001b[0;32mI (252387) EXE: executing [SEND]\u001b[0m\n",
      "> \u001b[0;32mI (252387) EXE: Sending message to address-5 ...\u001b[0m\n",
      "> \u001b[0;33mW (252397) MAIN: <- Sended Message [dda]\u001b[0m\n",
      "> \u001b[0;32mI (252397) EXE: Command [SEND-5-dda] executed\u001b[0m\n",
      "> \u001b[0;32mI (252417) ROOT: Send opcode [0xc102e5] completed\u001b[0m\n",
      "> \u001b[0;33mW (256417) ROOT: Client message 0xc102e5 timeout\u001b[0m\n",
      "> \u001b[0;32mI (256417) MAIN:  ----------- timeout handler trigered -----------\u001b[0m\n"
     ]
    },
    {
     "name": "stdin",
     "output_type": "stream",
     "text": [
      "Enter command:  SEND-6-asd\n"
     ]
    },
    {
     "name": "stdout",
     "output_type": "stream",
     "text": [
      "inputed: [SEND-6-asd]\n",
      "> \u001b[0;32mI (261887) RX: Read 11 bytes: 'SEND-6-asd\n",
      "> '\u001b[0m\n",
      "> \u001b[0;33mW (261887) MAIN: uart_task_handler called ------------------\u001b[0m\n",
      "> \u001b[0;32mI (261887) MAIN: execute_command called\u001b[0m\n",
      "> \u001b[0;32mI (261887) EXE: executing [SEND]\u001b[0m\n",
      "> \u001b[0;32mI (261887) EXE: Sending message to address-6 ...\u001b[0m\n",
      "> \u001b[0;33mW (261897) MAIN: <- Sended Message [asd]\u001b[0m\n",
      "> \u001b[0;32mI (261897) EXE: Command [SEND-6-asd] executed\u001b[0m\n",
      "> \u001b[0;32mI (261907) ROOT: Send opcode [0xc102e5] completed\u001b[0m\n",
      "> \u001b[0;33mW (265907) ROOT: Client message 0xc102e5 timeout\u001b[0m\n",
      "> \u001b[0;32mI (265907) MAIN:  ----------- timeout handler trigered -----------\u001b[0m\n"
     ]
    },
    {
     "name": "stdin",
     "output_type": "stream",
     "text": [
      "Enter command:  SEND-6-asda\n"
     ]
    },
    {
     "name": "stdout",
     "output_type": "stream",
     "text": [
      "inputed: [SEND-6-asda]\n",
      "> \u001b[0;32mI (288897) RX: Read 12 bytes: 'SEND-6-asda\n",
      "> '\u001b[0m\n",
      "> \u001b[0;33mW (288897) MAIN: uart_task_handler called ------------------\u001b[0m\n",
      "> \u001b[0;32mI (288897) MAIN: execute_command called\u001b[0m\n",
      "> \u001b[0;32mI (288897) EXE: executing [SEND]\u001b[0m\n",
      "> \u001b[0;32mI (288897) EXE: Sending message to address-6 ...\u001b[0m\n",
      "> \u001b[0;33mW (288907) MAIN: <- Sended Message [asda]\u001b[0m\n",
      "> \u001b[0;32mI (288907) EXE: Command [SEND-6-asda] executed\u001b[0m\n",
      "> \u001b[0;32mI (288927) ROOT: Send opcode [0xc102e5] completed\u001b[0m\n",
      "> \u001b[0;33mW (292927) ROOT: Client message 0xc102e5 timeout\u001b[0m\n",
      "> \u001b[0;32mI (292927) MAIN:  ----------- timeout handler trigered -----------\u001b[0m\n",
      "> \u001b[0;32mI (300137) ROOT: ESP_BLE_MESH_PROVISIONER_RECV_UNPROV_ADV_PKT_EVT\u001b[0m\n",
      "> \u001b[0;32mI (300137) Device address: 74 4d bd 60 2e 12 \u001b[0m\n",
      "> \u001b[0;32mI (300137) ROOT: Address type 0x00, adv type 0x00\u001b[0m\n",
      "> \u001b[0;32mI (300137) Device UUID: 32 10 74 4d bd 60 2e 12 00 00 00 00 00 00 00 00 \u001b[0m\n",
      "> \u001b[0;32mI (300147) ROOT: oob info 0x0000, bearer PB-GATT\u001b[0m\n",
      "> \u001b[0;32mI (300157) ROOT: ESP_BLE_MESH_PROVISIONER_ADD_UNPROV_DEV_COMP_EVT, err_code 0\u001b[0m\n",
      "> \u001b[0;33mW (302257) BLE_MESH: Incomplete timer expired\u001b[0m\n"
     ]
    },
    {
     "name": "stdin",
     "output_type": "stream",
     "text": [
      "Enter command:  SEND-6-asd\n"
     ]
    },
    {
     "name": "stdout",
     "output_type": "stream",
     "text": [
      "inputed: [SEND-6-asd]\n",
      "> \u001b[0;32mI (306507) RX: Read 11 bytes: 'SEND-6-asd\n",
      "> '\u001b[0m\n",
      "> \u001b[0;33mW (306507) MAIN: uart_task_handler called ------------------\u001b[0m\n",
      "> \u001b[0;32mI (306507) MAIN: execute_command called\u001b[0m\n",
      "> \u001b[0;32mI (306507) EXE: executing [SEND]\u001b[0m\n",
      "> \u001b[0;32mI (306507) EXE: Sending message to address-6 ...\u001b[0m\n",
      "> \u001b[0;33mW (306517) MAIN: <- Sended Message [asd]\u001b[0m\n",
      "> \u001b[0;32mI (306517) EXE: Command [SEND-6-asd] executed\u001b[0m\n",
      "> \u001b[0;32mI (306527) ROOT: Send opcode [0xc102e5] completed\u001b[0m\n",
      "> \u001b[0;33mW (310527) ROOT: Client message 0xc102e5 timeout\u001b[0m\n",
      "> \u001b[0;32mI (310527) MAIN:  ----------- timeout handler trigered -----------\u001b[0m\n"
     ]
    },
    {
     "name": "stdin",
     "output_type": "stream",
     "text": [
      "Enter command:  SEND-6-asd\n"
     ]
    },
    {
     "name": "stdout",
     "output_type": "stream",
     "text": [
      "inputed: [SEND-6-asd]\n",
      "> \u001b[0;32mI (329377) RX: Read 11 bytes: 'SEND-6-asd\n",
      "> '\u001b[0m\n",
      "> \u001b[0;33mW (329377) MAIN: uart_task_handler called ------------------\u001b[0m\n",
      "> \u001b[0;32mI (329377) MAIN: execute_command called\u001b[0m\n",
      "> \u001b[0;32mI (329377) EXE: executing [SEND]\u001b[0m\n",
      "> \u001b[0;32mI (329377) EXE: Sending message to address-6 ...\u001b[0m\n",
      "> \u001b[0;33mW (329387) MAIN: <- Sended Message [asd]\u001b[0m\n",
      "> \u001b[0;32mI (329387) EXE: Command [SEND-6-asd] executed\u001b[0m\n",
      "> \u001b[0;32mI (329397) ROOT: Send opcode [0xc102e5] completed\u001b[0m\n",
      "> \u001b[0;33mW (330157) BT_APPL: gattc_conn_cb: if=3 st=0 id=3 rsn=0x100\u001b[0m\n",
      "> \u001b[0;33mW (333397) ROOT: Client message 0xc102e5 timeout\u001b[0m\n",
      "> \u001b[0;32mI (333397) MAIN:  ----------- timeout handler trigered -----------\u001b[0m\n",
      "> \u001b[0;33mW (344357) BLE_MESH: Incomplete timer expired\u001b[0m\n"
     ]
    },
    {
     "name": "stdin",
     "output_type": "stream",
     "text": [
      "Enter command:  SEND-6-asd\n"
     ]
    },
    {
     "name": "stdout",
     "output_type": "stream",
     "text": [
      "inputed: [SEND-6-asd]\n",
      "> \u001b[0;32mI (352257) RX: Read 11 bytes: 'SEND-6-asd\n",
      "> '\u001b[0m\n",
      "> \u001b[0;33mW (352257) MAIN: uart_task_handler called ------------------\u001b[0m\n",
      "> \u001b[0;32mI (352257) MAIN: execute_command called\u001b[0m\n",
      "> \u001b[0;32mI (352257) EXE: executing [SEND]\u001b[0m\n",
      "> \u001b[0;32mI (352257) EXE: Sending message to address-6 ...\u001b[0m\n",
      "> \u001b[0;33mW (352267) MAIN: <- Sended Message [asd]\u001b[0m\n",
      "> \u001b[0;32mI (352267) EXE: Command [SEND-6-asd] executed\u001b[0m\n",
      "> \u001b[0;32mI (352287) ROOT: Send opcode [0xc102e5] completed\u001b[0m\n",
      "> \u001b[0;33mW (354457) MAIN: -> Recived Response [Edge Confirmed receive asd]]\u001b[0m\n"
     ]
    },
    {
     "name": "stdin",
     "output_type": "stream",
     "text": [
      "Enter command:  SEND-5-asd\n"
     ]
    },
    {
     "name": "stdout",
     "output_type": "stream",
     "text": [
      "inputed: [SEND-5-asd]\n",
      "> \u001b[0;32mI (359817) RX: Read 11 bytes: 'SEND-5-asd\n",
      "> '\u001b[0m\n",
      "> \u001b[0;33mW (359817) MAIN: uart_task_handler called ------------------\u001b[0m\n",
      "> \u001b[0;32mI (359817) MAIN: execute_command called\u001b[0m\n",
      "> \u001b[0;32mI (359817) EXE: executing [SEND]\u001b[0m\n",
      "> \u001b[0;32mI (359817) EXE: Sending message to address-5 ...\u001b[0m\n",
      "> \u001b[0;33mW (359827) MAIN: <- Sended Message [asd]\u001b[0m\n",
      "> \u001b[0;32mI (359827) EXE: Command [SEND-5-asd] executed\u001b[0m\n",
      "> \u001b[0;32mI (359847) ROOT: Send opcode [0xc102e5] completed\u001b[0m\n",
      "> \u001b[0;33mW (363847) ROOT: Client message 0xc102e5 timeout\u001b[0m\n",
      "> \u001b[0;32mI (363847) MAIN:  ----------- timeout handler trigered -----------\u001b[0m\n"
     ]
    },
    {
     "name": "stdin",
     "output_type": "stream",
     "text": [
      "Enter command:  SEND-6-asd\n"
     ]
    },
    {
     "name": "stdout",
     "output_type": "stream",
     "text": [
      "inputed: [SEND-6-asd]\n",
      "> \u001b[0;32mI (385627) RX: Read 11 bytes: 'SEND-6-asd\n",
      "> '\u001b[0m\n",
      "> \u001b[0;33mW (385627) MAIN: uart_task_handler called ------------------\u001b[0m\n",
      "> \u001b[0;32mI (385627) MAIN: execute_command called\u001b[0m\n",
      "> \u001b[0;32mI (385627) EXE: executing [SEND]\u001b[0m\n",
      "> \u001b[0;32mI (385627) EXE: Sending message to address-6 ...\u001b[0m\n",
      "> \u001b[0;33mW (385637) MAIN: <- Sended Message [asd]\u001b[0m\n",
      "> \u001b[0;32mI (385637) EXE: Command [SEND-6-asd] executed\u001b[0m\n",
      "> \u001b[0;32mI (385647) ROOT: Send opcode [0xc102e5] completed\u001b[0m\n",
      "> \u001b[0;33mW (389647) ROOT: Client message 0xc102e5 timeout\u001b[0m\n",
      "> \u001b[0;32mI (389647) MAIN:  ----------- timeout handler trigered -----------\u001b[0m\n"
     ]
    },
    {
     "name": "stdin",
     "output_type": "stream",
     "text": [
      "Enter command:  SEND-6-asda\n"
     ]
    },
    {
     "name": "stdout",
     "output_type": "stream",
     "text": [
      "inputed: [SEND-6-asda]\n",
      "> \u001b[0;32mI (401497) RX: Read 12 bytes: 'SEND-6-asda\n",
      "> '\u001b[0m\n",
      "> \u001b[0;33mW (401497) MAIN: uart_task_handler called ------------------\u001b[0m\n",
      "> \u001b[0;32mI (401497) MAIN: execute_command called\u001b[0m\n",
      "> \u001b[0;32mI (401497) EXE: executing [SEND]\u001b[0m\n",
      "> \u001b[0;32mI (401497) EXE: Sending message to address-6 ...\u001b[0m\n",
      "> \u001b[0;33mW (401507) MAIN: <- Sended Message [asda]\u001b[0m\n",
      "> \u001b[0;32mI (401507) EXE: Command [SEND-6-asda] executed\u001b[0m\n",
      "> \u001b[0;32mI (401527) ROOT: Send opcode [0xc102e5] completed\u001b[0m\n",
      "> \u001b[0;33mW (404057) MAIN: -> Recived Response [Edge Confirmed receive asda]]\u001b[0m\n"
     ]
    },
    {
     "name": "stdin",
     "output_type": "stream",
     "text": [
      "Enter command:  SEND-5-asd\n"
     ]
    },
    {
     "name": "stdout",
     "output_type": "stream",
     "text": [
      "inputed: [SEND-5-asd]\n",
      "> \u001b[0;32mI (410737) RX: Read 11 bytes: 'SEND-5-asd\n",
      "> '\u001b[0m\n",
      "> \u001b[0;33mW (410737) MAIN: uart_task_handler called ------------------\u001b[0m\n",
      "> \u001b[0;32mI (410737) MAIN: execute_command called\u001b[0m\n",
      "> \u001b[0;32mI (410737) EXE: executing [SEND]\u001b[0m\n",
      "> \u001b[0;32mI (410737) EXE: Sending message to address-5 ...\u001b[0m\n",
      "> \u001b[0;33mW (410747) MAIN: <- Sended Message [asd]\u001b[0m\n",
      "> \u001b[0;32mI (410747) EXE: Command [SEND-5-asd] executed\u001b[0m\n",
      "> \u001b[0;32mI (410767) ROOT: Send opcode [0xc102e5] completed\u001b[0m\n",
      "> \u001b[0;33mW (414767) ROOT: Client message 0xc102e5 timeout\u001b[0m\n",
      "> \u001b[0;32mI (414767) MAIN:  ----------- timeout handler trigered -----------\u001b[0m\n",
      "> \u001b[0;33mW (427697) BLE_MESH: Device in queue not support PB-ADV\u001b[0m\n",
      "> \u001b[0;32mI (427697) ROOT: ESP_BLE_MESH_PROVISIONER_RECV_UNPROV_ADV_PKT_EVT\u001b[0m\n",
      "> \u001b[0;32mI (427697) Device address: 74 4d bd 60 2e 12 \u001b[0m\n",
      "> \u001b[0;32mI (427697) ROOT: Address type 0x00, adv type 0x03\u001b[0m\n",
      "> \u001b[0;32mI (427707) Device UUID: 32 10 74 4d bd 60 2e 12 00 00 00 00 00 00 00 00 \u001b[0m\n",
      "> \u001b[0;32mI (427717) ROOT: oob info 0x0000, bearer PB-ADV\u001b[0m\n",
      "> \u001b[0;33mW (427717) BLE_MESH: Add device with only bearer updated\u001b[0m\n",
      "> \u001b[0;32mI (427727) ROOT: ESP_BLE_MESH_PROVISIONER_PROV_LINK_OPEN_EVT, bearer PB-ADV\u001b[0m\n",
      "> \u001b[0;32mI (427737) ROOT: ESP_BLE_MESH_PROVISIONER_ADD_UNPROV_DEV_COMP_EVT, err_code 0\u001b[0m\n",
      "> \u001b[0;32mI (430637) ROOT: node_index 0, primary_addr 0x0005, element_num 1, net_idx 0x000\u001b[0m\n",
      "> \u001b[0;32mI (430637) uuid: 32 10 74 4d bd 60 2e 12 00 00 00 00 00 00 00 00 \u001b[0m\n",
      "> \u001b[0;32mI (430647) ROOT: ESP_BLE_MESH_PROVISIONER_SET_NODE_NAME_COMP_EVT, err_code 0\u001b[0m\n",
      "> \u001b[0;32mI (430647) ROOT: Node 0 name NODE-00\u001b[0m\n",
      "> \u001b[0;32mI (430927) ROOT: ESP_BLE_MESH_PROVISIONER_PROV_LINK_CLOSE_EVT, bearer PB-ADV, reason 0x00\u001b[0m\n",
      "> \u001b[0;32mI (431067) ROOT: Config client, err_code 0, event 0, addr 0x0005, opcode 0x8008\u001b[0m\n",
      "> \u001b[0;32mI (431067) Composition data: e5 02 00 00 00 00 0a 00 03 00 00 00 01 02 00 00 \u001b[0m\n",
      "> \u001b[0;32mI (431077) Composition data: e5 02 00 00 e5 02 01 00 \u001b[0m\n",
      "> \u001b[0;32mI (431077) ROOT: ********************** Composition Data Start **********************\u001b[0m\n",
      "> \u001b[0;32mI (431087) ROOT: * CID 0x02e5, PID 0x0000, VID 0x0000, CRPL 0x000a, Features 0x0003 *\u001b[0m\n",
      "> \u001b[0;32mI (431097) ROOT: * Loc 0x0000, NumS 0x01, NumV 0x02 *\u001b[0m\n",
      "> \u001b[0;32mI (431107) ROOT: * SIG Model ID 0x0000 *\u001b[0m\n",
      "> \u001b[0;32mI (431107) ROOT: * Vendor Model ID 0x0000, Company ID 0x02e5 *\u001b[0m\n",
      "> \u001b[0;32mI (431117) ROOT: * Vendor Model ID 0x0001, Company ID 0x02e5 *\u001b[0m\n",
      "> \u001b[0;32mI (431117) ROOT: *********************** Composition Data End ***********************\u001b[0m\n",
      "> \u001b[0;32mI (431137) ROOT: ESP_BLE_MESH_PROVISIONER_STORE_NODE_COMP_DATA_COMP_EVT, err_code 0\u001b[0m\n",
      "> \u001b[0;32mI (431417) ROOT: Config client, err_code 0, event 1, addr 0x0005, opcode 0x0000\u001b[0m\n",
      "> \u001b[0;32mI (431567) ROOT: Config client, err_code 0, event 1, addr 0x0005, opcode 0x803d\u001b[0m\n",
      "> \u001b[0;33mW (431567) ROOT: example_ble_mesh_config_client_cb, Provision and config successfully\u001b[0m\n"
     ]
    },
    {
     "name": "stdin",
     "output_type": "stream",
     "text": [
      "Enter command:  SEND-5-asd\n"
     ]
    },
    {
     "name": "stdout",
     "output_type": "stream",
     "text": [
      "inputed: [SEND-5-asd]\n",
      "> \u001b[0;32mI (440087) RX: Read 11 bytes: 'SEND-5-asd\n",
      "> '\u001b[0m\n",
      "> \u001b[0;33mW (440087) MAIN: uart_task_handler called ------------------\u001b[0m\n",
      "> \u001b[0;32mI (440087) MAIN: execute_command called\u001b[0m\n",
      "> \u001b[0;32mI (440087) EXE: executing [SEND]\u001b[0m\n",
      "> \u001b[0;32mI (440087) EXE: Sending message to address-5 ...\u001b[0m\n",
      "> \u001b[0;33mW (440097) MAIN: <- Sended Message [asd]\u001b[0m\n",
      "> \u001b[0;32mI (440097) EXE: Command [SEND-5-asd] executed\u001b[0m\n",
      "> \u001b[0;32mI (440117) ROOT: Send opcode [0xc102e5] completed\u001b[0m\n",
      "> \u001b[0;33mW (441017) MAIN: -> Recived Response [Edge Confirmed receive asd]]\u001b[0m\n"
     ]
    },
    {
     "name": "stdin",
     "output_type": "stream",
     "text": [
      "Enter command:  SEND-6-asda\n"
     ]
    },
    {
     "name": "stdout",
     "output_type": "stream",
     "text": [
      "inputed: [SEND-6-asda]\n",
      "> \u001b[0;32mI (468287) RX: Read 12 bytes: 'SEND-6-asda\n",
      "> '\u001b[0m\n",
      "> \u001b[0;33mW (468287) MAIN: uart_task_handler called ------------------\u001b[0m\n",
      "> \u001b[0;32mI (468287) MAIN: execute_command called\u001b[0m\n",
      "> \u001b[0;32mI (468287) EXE: executing [SEND]\u001b[0m\n",
      "> \u001b[0;32mI (468287) EXE: Sending message to address-6 ...\u001b[0m\n",
      "> \u001b[0;33mW (468297) MAIN: <- Sended Message [asda]\u001b[0m\n",
      "> \u001b[0;32mI (468297) EXE: Command [SEND-6-asda] executed\u001b[0m\n",
      "> \u001b[0;32mI (468317) ROOT: Send opcode [0xc102e5] completed\u001b[0m\n",
      "> \u001b[0;33mW (469197) MAIN: -> Recived Response [Edge Confirmed receive asda]]\u001b[0m\n"
     ]
    },
    {
     "name": "stdin",
     "output_type": "stream",
     "text": [
      "Enter command:  SEND-5-asda\n"
     ]
    },
    {
     "name": "stdout",
     "output_type": "stream",
     "text": [
      "inputed: [SEND-5-asda]\n",
      "> \u001b[0;32mI (476227) RX: Read 12 bytes: 'SEND-5-asda\n",
      "> '\u001b[0m\n",
      "> \u001b[0;33mW (476227) MAIN: uart_task_handler called ------------------\u001b[0m\n",
      "> \u001b[0;32mI (476227) MAIN: execute_command called\u001b[0m\n",
      "> \u001b[0;32mI (476227) EXE: executing [SEND]\u001b[0m\n",
      "> \u001b[0;32mI (476227) EXE: Sending message to address-5 ...\u001b[0m\n",
      "> \u001b[0;33mW (476237) MAIN: <- Sended Message [asda]\u001b[0m\n",
      "> \u001b[0;32mI (476237) EXE: Command [SEND-5-asda] executed\u001b[0m\n",
      "> \u001b[0;32mI (476247) ROOT: Send opcode [0xc102e5] completed\u001b[0m\n",
      "> \u001b[0;33mW (476577) MAIN: -> Recived Response [Edge Confirmed receive asda]]\u001b[0m\n"
     ]
    },
    {
     "name": "stdin",
     "output_type": "stream",
     "text": [
      "Enter command:  SEND-5-asda\n"
     ]
    },
    {
     "name": "stdout",
     "output_type": "stream",
     "text": [
      "inputed: [SEND-5-asda]\n",
      "> \u001b[0;32mI (494957) RX: Read 12 bytes: 'SEND-5-asda\n",
      "> '\u001b[0m\n",
      "> \u001b[0;33mW (494957) MAIN: uart_task_handler called ------------------\u001b[0m\n",
      "> \u001b[0;32mI (494957) MAIN: execute_command called\u001b[0m\n",
      "> \u001b[0;32mI (494957) EXE: executing [SEND]\u001b[0m\n",
      "> \u001b[0;32mI (494957) EXE: Sending message to address-5 ...\u001b[0m\n",
      "> \u001b[0;33mW (494967) MAIN: <- Sended Message [asda]\u001b[0m\n",
      "> \u001b[0;32mI (494967) EXE: Command [SEND-5-asda] executed\u001b[0m\n",
      "> \u001b[0;32mI (494977) ROOT: Send opcode [0xc102e5] completed\u001b[0m\n",
      "> \u001b[0;33mW (498987) ROOT: Client message 0xc102e5 timeout\u001b[0m\n",
      "> \u001b[0;32mI (498987) MAIN:  ----------- timeout handler trigered -----------\u001b[0m\n",
      "> \u001b[0;32mI (509177) ROOT: ESP_BLE_MESH_PROVISIONER_RECV_UNPROV_ADV_PKT_EVT\u001b[0m\n",
      "> \u001b[0;32mI (509177) Device address: 74 4d bd 60 30 fa \u001b[0m\n",
      "> \u001b[0;32mI (509177) ROOT: Address type 0x00, adv type 0x03\u001b[0m\n",
      "> \u001b[0;32mI (509187) Device UUID: 32 10 74 4d bd 60 30 fa 00 00 00 00 00 00 00 00 \u001b[0m\n",
      "> \u001b[0;32mI (509187) ROOT: oob info 0x0000, bearer PB-ADV\u001b[0m\n",
      "> \u001b[0;32mI (509197) ROOT: ESP_BLE_MESH_PROVISIONER_PROV_LINK_OPEN_EVT, bearer PB-ADV\u001b[0m\n",
      "> \u001b[0;32mI (509207) ROOT: ESP_BLE_MESH_PROVISIONER_ADD_UNPROV_DEV_COMP_EVT, err_code 0\u001b[0m\n"
     ]
    },
    {
     "name": "stdin",
     "output_type": "stream",
     "text": [
      "Enter command:  SEND-5-asda\n"
     ]
    },
    {
     "name": "stdout",
     "output_type": "stream",
     "text": [
      "inputed: [SEND-5-asda]\n",
      "> \u001b[0;32mI (510437) RX: Read 12 bytes: 'SEND-5-asda\n",
      "> '\u001b[0m\n",
      "> \u001b[0;33mW (510437) MAIN: uart_task_handler called ------------------\u001b[0m\n",
      "> \u001b[0;32mI (510437) MAIN: execute_command called\u001b[0m\n",
      "> \u001b[0;32mI (510437) EXE: executing [SEND]\u001b[0m\n",
      "> \u001b[0;32mI (510437) EXE: Sending message to address-5 ...\u001b[0m\n",
      "> \u001b[0;33mW (510447) MAIN: <- Sended Message [asda]\u001b[0m\n",
      "> \u001b[0;32mI (510447) EXE: Command [SEND-5-asda] executed\u001b[0m\n",
      "> \u001b[0;32mI (510457) ROOT: Send opcode [0xc102e5] completed\u001b[0m\n",
      "> \u001b[0;33mW (514457) ROOT: Client message 0xc102e5 timeout\u001b[0m\n",
      "> \u001b[0;32mI (514457) MAIN:  ----------- timeout handler trigered -----------\u001b[0m\n",
      "> \u001b[0;32mI (516717) ROOT: node_index 1, primary_addr 0x0006, element_num 1, net_idx 0x000\u001b[0m\n",
      "> \u001b[0;32mI (516717) uuid: 32 10 74 4d bd 60 30 fa 00 00 00 00 00 00 00 00 \u001b[0m\n",
      "> \u001b[0;32mI (516717) ROOT: ESP_BLE_MESH_PROVISIONER_SET_NODE_NAME_COMP_EVT, err_code 0\u001b[0m\n",
      "> \u001b[0;32mI (516727) ROOT: Node 1 name NODE-01\u001b[0m\n",
      "> \u001b[0;32mI (516997) ROOT: ESP_BLE_MESH_PROVISIONER_PROV_LINK_CLOSE_EVT, bearer PB-ADV, reason 0x00\u001b[0m\n",
      "> \u001b[0;32mI (517737) ROOT: Config client, err_code 0, event 0, addr 0x0006, opcode 0x8008\u001b[0m\n",
      "> \u001b[0;32mI (517737) Composition data: e5 02 00 00 00 00 0a 00 03 00 00 00 01 02 00 00 \u001b[0m\n",
      "> \u001b[0;32mI (517737) Composition data: e5 02 00 00 e5 02 01 00 \u001b[0m\n",
      "> \u001b[0;32mI (517747) ROOT: ********************** Composition Data Start **********************\u001b[0m\n",
      "> \u001b[0;32mI (517757) ROOT: * CID 0x02e5, PID 0x0000, VID 0x0000, CRPL 0x000a, Features 0x0003 *\u001b[0m\n",
      "> \u001b[0;32mI (517767) ROOT: * Loc 0x0000, NumS 0x01, NumV 0x02 *\u001b[0m\n",
      "> \u001b[0;32mI (517767) ROOT: * SIG Model ID 0x0000 *\u001b[0m\n",
      "> \u001b[0;32mI (517777) ROOT: * Vendor Model ID 0x0000, Company ID 0x02e5 *\u001b[0m\n",
      "> \u001b[0;32mI (517777) ROOT: * Vendor Model ID 0x0001, Company ID 0x02e5 *\u001b[0m\n",
      "> \u001b[0;32mI (517787) ROOT: *********************** Composition Data End ***********************\u001b[0m\n",
      "> \u001b[0;32mI (517797) ROOT: ESP_BLE_MESH_PROVISIONER_STORE_NODE_COMP_DATA_COMP_EVT, err_code 0\u001b[0m\n",
      "> \u001b[0;32mI (518207) ROOT: Config client, err_code 0, event 1, addr 0x0006, opcode 0x0000\u001b[0m\n"
     ]
    },
    {
     "name": "stdin",
     "output_type": "stream",
     "text": [
      "Enter command:  SEND-5-asd\n"
     ]
    },
    {
     "name": "stdout",
     "output_type": "stream",
     "text": [
      "inputed: [SEND-5-asd]\n",
      "> \u001b[0;33mW (522217) BLE_MESH: Receive configuration status message timeout\u001b[0m\n",
      "> \u001b[0;32mI (522217) ROOT: Config client, err_code 0, event 3, addr 0x0006, opcode 0x803d\u001b[0m\n",
      "> \u001b[0;32mI (522247) ROOT: Config client, err_code 0, event 1, addr 0x0006, opcode 0x803d\u001b[0m\n",
      "> \u001b[0;33mW (522247) ROOT: example_ble_mesh_config_client_cb, Provision and config successfully\u001b[0m\n",
      "> \u001b[0;32mI (522447) RX: Read 11 bytes: 'SEND-5-asd\n",
      "> '\u001b[0m\n",
      "> \u001b[0;33mW (522447) MAIN: uart_task_handler called ------------------\u001b[0m\n",
      "> \u001b[0;32mI (522447) MAIN: execute_command called\u001b[0m\n",
      "> \u001b[0;32mI (522447) EXE: executing [SEND]\u001b[0m\n",
      "> \u001b[0;32mI (522447) EXE: Sending message to address-5 ...\u001b[0m\n",
      "> \u001b[0;33mW (522457) MAIN: <- Sended Message [asd]\u001b[0m\n",
      "> \u001b[0;32mI (522457) EXE: Command [SEND-5-asd] executed\u001b[0m\n",
      "> \u001b[0;32mI (522467) ROOT: Send opcode [0xc102e5] completed\u001b[0m\n",
      "> \u001b[0;33mW (522777) MAIN: -> Recived Response [Edge Confirmed receive asd]]\u001b[0m\n"
     ]
    },
    {
     "name": "stdin",
     "output_type": "stream",
     "text": [
      "Enter command:  SEND-6-asd\n"
     ]
    },
    {
     "name": "stdout",
     "output_type": "stream",
     "text": [
      "inputed: [SEND-6-asd]\n",
      "> \u001b[0;32mI (539607) RX: Read 11 bytes: 'SEND-6-asd\n",
      "> '\u001b[0m\n",
      "> \u001b[0;33mW (539607) MAIN: uart_task_handler called ------------------\u001b[0m\n",
      "> \u001b[0;32mI (539607) MAIN: execute_command called\u001b[0m\n",
      "> \u001b[0;32mI (539607) EXE: executing [SEND]\u001b[0m\n",
      "> \u001b[0;32mI (539607) EXE: Sending message to address-6 ...\u001b[0m\n",
      "> \u001b[0;33mW (539617) MAIN: <- Sended Message [asd]\u001b[0m\n",
      "> \u001b[0;32mI (539617) EXE: Command [SEND-6-asd] executed\u001b[0m\n",
      "> \u001b[0;32mI (539627) ROOT: Send opcode [0xc102e5] completed\u001b[0m\n",
      "> \u001b[0;33mW (542017) MAIN: -> Recived Response [Edge Confirmed receive asd]]\u001b[0m\n",
      "> \u001b[0;32mI (560787) ROOT: ESP_BLE_MESH_PROVISIONER_RECV_UNPROV_ADV_PKT_EVT\u001b[0m\n",
      "> \u001b[0;32mI (560787) Device address: 74 4d bd 60 2e 12 \u001b[0m\n",
      "> \u001b[0;32mI (560787) ROOT: Address type 0x00, adv type 0x00\u001b[0m\n",
      "> \u001b[0;32mI (560797) Device UUID: 32 10 74 4d bd 60 2e 12 00 00 00 00 00 00 00 00 \u001b[0m\n",
      "> \u001b[0;32mI (560807) ROOT: oob info 0x0000, bearer PB-GATT\u001b[0m\n",
      "> \u001b[0;32mI (560817) ROOT: ESP_BLE_MESH_PROVISIONER_ADD_UNPROV_DEV_COMP_EVT, err_code 0\u001b[0m\n",
      "> \u001b[0;32mI (564537) ROOT: ESP_BLE_MESH_PROVISIONER_PROV_LINK_OPEN_EVT, bearer PB-GATT\u001b[0m\n",
      "> \u001b[0;33mW (565857) BT_HCI: hci cmd send: disconnect: hdl 0x1, rsn:0x13\u001b[0m\n",
      "> \u001b[0;33mW (565857) BT_APPL: gattc_conn_cb: if=3 st=0 id=3 rsn=0x16\u001b[0m\n",
      "> \u001b[0;32mI (565857) ROOT: node_index 0, primary_addr 0x0005, element_num 1, net_idx 0x000\u001b[0m\n",
      "> \u001b[0;32mI (565867) uuid: 32 10 74 4d bd 60 2e 12 00 00 00 00 00 00 00 00 \u001b[0m\n",
      "> \u001b[0;32mI (565867) ROOT: ESP_BLE_MESH_PROVISIONER_PROV_LINK_CLOSE_EVT, bearer PB-GATT, reason 0x16\u001b[0m\n",
      "> \u001b[0;32mI (565887) ROOT: ESP_BLE_MESH_PROVISIONER_SET_NODE_NAME_COMP_EVT, err_code 0\u001b[0m\n",
      "> \u001b[0;32mI (565887) ROOT: Node 0 name NODE-00\u001b[0m\n",
      "> \u001b[0;33mW (565937) BT_HCI: hcif disc complete: hdl 0x1, rsn 0x16\u001b[0m\n",
      "> \u001b[0;32mI (568097) ROOT: Config client, err_code 0, event 0, addr 0x0005, opcode 0x8008\u001b[0m\n",
      "> \u001b[0;32mI (568097) Composition data: e5 02 00 00 00 00 0a 00 03 00 00 00 01 02 00 00 \u001b[0m\n",
      "> \u001b[0;32mI (568097) Composition data: e5 02 00 00 e5 02 01 00 \u001b[0m\n",
      "> \u001b[0;32mI (568107) ROOT: ********************** Composition Data Start **********************\u001b[0m\n",
      "> \u001b[0;32mI (568117) ROOT: * CID 0x02e5, PID 0x0000, VID 0x0000, CRPL 0x000a, Features 0x0003 *\u001b[0m\n",
      "> \u001b[0;32mI (568127) ROOT: * Loc 0x0000, NumS 0x01, NumV 0x02 *\u001b[0m\n",
      "> \u001b[0;32mI (568127) ROOT: * SIG Model ID 0x0000 *\u001b[0m\n",
      "> \u001b[0;32mI (568137) ROOT: * Vendor Model ID 0x0000, Company ID 0x02e5 *\u001b[0m\n",
      "> \u001b[0;32mI (568137) ROOT: * Vendor Model ID 0x0001, Company ID 0x02e5 *\u001b[0m\n",
      "> \u001b[0;32mI (568147) ROOT: *********************** Composition Data End ***********************\u001b[0m\n",
      "> \u001b[0;32mI (568157) ROOT: ESP_BLE_MESH_PROVISIONER_STORE_NODE_COMP_DATA_COMP_EVT, err_code 0\u001b[0m\n",
      "> \u001b[0;32mI (568497) ROOT: Config client, err_code 0, event 1, addr 0x0005, opcode 0x0000\u001b[0m\n",
      "> \u001b[0;32mI (568747) ROOT: Config client, err_code 0, event 1, addr 0x0005, opcode 0x803d\u001b[0m\n",
      "> \u001b[0;33mW (568747) ROOT: example_ble_mesh_config_client_cb, Provision and config successfully\u001b[0m\n"
     ]
    },
    {
     "name": "stdin",
     "output_type": "stream",
     "text": [
      "Enter command:  SEND-5-asda\n"
     ]
    },
    {
     "name": "stdout",
     "output_type": "stream",
     "text": [
      "inputed: [SEND-5-asda]\n",
      "> \u001b[0;32mI (577627) RX: Read 12 bytes: 'SEND-5-asda\n",
      "> '\u001b[0m\n",
      "> \u001b[0;33mW (577627) MAIN: uart_task_handler called ------------------\u001b[0m\n",
      "> \u001b[0;32mI (577627) MAIN: execute_command called\u001b[0m\n",
      "> \u001b[0;32mI (577627) EXE: executing [SEND]\u001b[0m\n",
      "> \u001b[0;32mI (577627) EXE: Sending message to address-5 ...\u001b[0m\n",
      "> \u001b[0;33mW (577637) MAIN: <- Sended Message [asda]\u001b[0m\n",
      "> \u001b[0;32mI (577637) EXE: Command [SEND-5-asda] executed\u001b[0m\n",
      "> \u001b[0;32mI (577657) ROOT: Send opcode [0xc102e5] completed\u001b[0m\n",
      "> \u001b[0;33mW (580287) MAIN: -> Recived Response [Edge Confirmed receive asda]]\u001b[0m\n"
     ]
    },
    {
     "name": "stdin",
     "output_type": "stream",
     "text": [
      "Enter command:  SEND-6-asd\n"
     ]
    },
    {
     "name": "stdout",
     "output_type": "stream",
     "text": [
      "inputed: [SEND-6-asd]\n",
      "> \u001b[0;32mI (587337) RX: Read 11 bytes: 'SEND-6-asd\n",
      "> '\u001b[0m\n",
      "> \u001b[0;33mW (587337) MAIN: uart_task_handler called ------------------\u001b[0m\n",
      "> \u001b[0;32mI (587337) MAIN: execute_command called\u001b[0m\n",
      "> \u001b[0;32mI (587337) EXE: executing [SEND]\u001b[0m\n",
      "> \u001b[0;32mI (587337) EXE: Sending message to address-6 ...\u001b[0m\n",
      "> \u001b[0;33mW (587347) MAIN: <- Sended Message [asd]\u001b[0m\n",
      "> \u001b[0;32mI (587347) EXE: Command [SEND-6-asd] executed\u001b[0m\n",
      "> \u001b[0;32mI (587367) ROOT: Send opcode [0xc102e5] completed\u001b[0m\n",
      "> \u001b[0;33mW (590777) MAIN: -> Recived Response [Edge Confirmed receive asd]]\u001b[0m\n"
     ]
    },
    {
     "name": "stdin",
     "output_type": "stream",
     "text": [
      "Enter command:  SEND-5-asd\n"
     ]
    },
    {
     "name": "stdout",
     "output_type": "stream",
     "text": [
      "inputed: [SEND-5-asd]\n",
      "> \u001b[0;32mI (601437) RX: Read 11 bytes: 'SEND-5-asd\n",
      "> '\u001b[0m\n",
      "> \u001b[0;33mW (601437) MAIN: uart_task_handler called ------------------\u001b[0m\n",
      "> \u001b[0;32mI (601437) MAIN: execute_command called\u001b[0m\n",
      "> \u001b[0;32mI (601437) EXE: executing [SEND]\u001b[0m\n",
      "> \u001b[0;32mI (601437) EXE: Sending message to address-5 ...\u001b[0m\n",
      "> \u001b[0;33mW (601447) MAIN: <- Sended Message [asd]\u001b[0m\n",
      "> \u001b[0;32mI (601447) EXE: Command [SEND-5-asd] executed\u001b[0m\n",
      "> \u001b[0;32mI (601457) ROOT: Send opcode [0xc102e5] completed\u001b[0m\n",
      "> \u001b[0;33mW (602607) MAIN: -> Recived Response [Edge Confirmed receive asd]]\u001b[0m\n"
     ]
    },
    {
     "name": "stdin",
     "output_type": "stream",
     "text": [
      "Enter command:  SEND-5-adsd\n"
     ]
    },
    {
     "name": "stdout",
     "output_type": "stream",
     "text": [
      "inputed: [SEND-5-adsd]\n",
      "> \u001b[0;32mI (612077) RX: Read 12 bytes: 'SEND-5-adsd\n",
      "> '\u001b[0m\n",
      "> \u001b[0;33mW (612077) MAIN: uart_task_handler called ------------------\u001b[0m\n",
      "> \u001b[0;32mI (612077) MAIN: execute_command called\u001b[0m\n",
      "> \u001b[0;32mI (612077) EXE: executing [SEND]\u001b[0m\n",
      "> \u001b[0;32mI (612077) EXE: Sending message to address-5 ...\u001b[0m\n",
      "> \u001b[0;33mW (612087) MAIN: <- Sended Message [adsd]\u001b[0m\n",
      "> \u001b[0;32mI (612087) EXE: Command [SEND-5-adsd] executed\u001b[0m\n",
      "> \u001b[0;32mI (612097) ROOT: Send opcode [0xc102e5] completed\u001b[0m\n",
      "> \u001b[0;33mW (616097) ROOT: Client message 0xc102e5 timeout\u001b[0m\n",
      "> \u001b[0;32mI (616107) MAIN:  ----------- timeout handler trigered -----------\u001b[0m\n",
      "> \u001b[0;32mI (624807) ROOT: ESP_BLE_MESH_PROVISIONER_RECV_UNPROV_ADV_PKT_EVT\u001b[0m\n",
      "> \u001b[0;32mI (624807) Device address: 74 4d bd 60 30 fa \u001b[0m\n",
      "> \u001b[0;32mI (624807) ROOT: Address type 0x00, adv type 0x03\u001b[0m\n",
      "> \u001b[0;32mI (624817) Device UUID: 32 10 74 4d bd 60 30 fa 00 00 00 00 00 00 00 00 \u001b[0m\n",
      "> \u001b[0;32mI (624827) ROOT: oob info 0x0000, bearer PB-ADV\u001b[0m\n",
      "> \u001b[0;32mI (624827) ROOT: ESP_BLE_MESH_PROVISIONER_PROV_LINK_OPEN_EVT, bearer PB-ADV\u001b[0m\n",
      "> \u001b[0;32mI (624837) ROOT: ESP_BLE_MESH_PROVISIONER_ADD_UNPROV_DEV_COMP_EVT, err_code 0\u001b[0m\n",
      "> \u001b[0;33mW (637687) BLE_MESH: Data for unknown transaction (131 != 0)\u001b[0m\n",
      "> \u001b[0;32mI (641507) ROOT: node_index 1, primary_addr 0x0006, element_num 1, net_idx 0x000\u001b[0m\n",
      "> \u001b[0;32mI (641507) uuid: 32 10 74 4d bd 60 30 fa 00 00 00 00 00 00 00 00 \u001b[0m\n",
      "> \u001b[0;32mI (641507) ROOT: ESP_BLE_MESH_PROVISIONER_SET_NODE_NAME_COMP_EVT, err_code 0\u001b[0m\n",
      "> \u001b[0;32mI (641517) ROOT: Node 1 name NODE-01\u001b[0m\n",
      "> \u001b[0;32mI (641787) ROOT: ESP_BLE_MESH_PROVISIONER_PROV_LINK_CLOSE_EVT, bearer PB-ADV, reason 0x00\u001b[0m\n",
      "> \u001b[0;33mW (645687) BLE_MESH: Receive configuration status message timeout\u001b[0m\n",
      "> \u001b[0;32mI (645687) ROOT: Config client, err_code 0, event 3, addr 0x0006, opcode 0x8008\u001b[0m\n",
      "> \u001b[0;33mW (645967) BLE_MESH: Duplicate SDU from src 0x0006\u001b[0m\n",
      "> \u001b[0;33mW (649697) BLE_MESH: Receive configuration status message timeout\u001b[0m\n",
      "> \u001b[0;32mI (649697) ROOT: Config client, err_code 0, event 3, addr 0x0006, opcode 0x8008\u001b[0m\n",
      "> \u001b[0;33mW (649737) BLE_MESH: Duplicate SDU from src 0x0006\u001b[0m\n",
      "> \u001b[0;32mI (651917) ROOT: Config client, err_code 0, event 0, addr 0x0006, opcode 0x8008\u001b[0m\n",
      "> \u001b[0;32mI (651927) Composition data: e5 02 00 00 00 00 0a 00 03 00 00 00 01 02 00 00 \u001b[0m\n",
      "> \u001b[0;32mI (651927) Composition data: e5 02 00 00 e5 02 01 00 \u001b[0m\n",
      "> \u001b[0;32mI (651937) ROOT: ********************** Composition Data Start **********************\u001b[0m\n",
      "> \u001b[0;32mI (651937) ROOT: * CID 0x02e5, PID 0x0000, VID 0x0000, CRPL 0x000a, Features 0x0003 *\u001b[0m\n",
      "> \u001b[0;32mI (651947) ROOT: * Loc 0x0000, NumS 0x01, NumV 0x02 *\u001b[0m\n",
      "> \u001b[0;32mI (651957) ROOT: * SIG Model ID 0x0000 *\u001b[0m\n",
      "> \u001b[0;32mI (651957) ROOT: * Vendor Model ID 0x0000, Company ID 0x02e5 *\u001b[0m\n",
      "> \u001b[0;32mI (651967) ROOT: * Vendor Model ID 0x0001, Company ID 0x02e5 *\u001b[0m\n",
      "> \u001b[0;32mI (651977) ROOT: *********************** Composition Data End ***********************\u001b[0m\n",
      "> \u001b[0;32mI (651987) ROOT: ESP_BLE_MESH_PROVISIONER_STORE_NODE_COMP_DATA_COMP_EVT, err_code 0\u001b[0m\n",
      "> \u001b[0;32mI (652297) ROOT: Config client, err_code 0, event 1, addr 0x0006, opcode 0x0000\u001b[0m\n",
      "> \u001b[0;32mI (652347) ROOT: Config client, err_code 0, event 1, addr 0x0006, opcode 0x803d\u001b[0m\n",
      "> \u001b[0;33mW (652347) ROOT: example_ble_mesh_config_client_cb, Provision and config successfully\u001b[0m\n"
     ]
    },
    {
     "name": "stdin",
     "output_type": "stream",
     "text": [
      "Enter command:  SEND-6-asd\n"
     ]
    },
    {
     "name": "stdout",
     "output_type": "stream",
     "text": [
      "inputed: [SEND-6-asd]\n",
      "> \u001b[0;32mI (657917) RX: Read 11 bytes: 'SEND-6-asd\n",
      "> '\u001b[0m\n",
      "> \u001b[0;33mW (657917) MAIN: uart_task_handler called ------------------\u001b[0m\n",
      "> \u001b[0;32mI (657917) MAIN: execute_command called\u001b[0m\n",
      "> \u001b[0;32mI (657917) EXE: executing [SEND]\u001b[0m\n",
      "> \u001b[0;32mI (657917) EXE: Sending message to address-6 ...\u001b[0m\n",
      "> \u001b[0;33mW (657927) MAIN: <- Sended Message [asd]\u001b[0m\n",
      "> \u001b[0;32mI (657927) EXE: Command [SEND-6-asd] executed\u001b[0m\n",
      "> \u001b[0;32mI (657937) ROOT: Send opcode [0xc102e5] completed\u001b[0m\n",
      "> \u001b[0;33mW (661937) ROOT: Client message 0xc102e5 timeout\u001b[0m\n",
      "> \u001b[0;32mI (661937) MAIN:  ----------- timeout handler trigered -----------\u001b[0m\n"
     ]
    },
    {
     "name": "stdin",
     "output_type": "stream",
     "text": [
      "Enter command:  SEND-6-asd\n"
     ]
    },
    {
     "name": "stdout",
     "output_type": "stream",
     "text": [
      "> \u001b[0;33mW (671837) BLE_MESH: Incomplete timer expired\u001b[0m\n",
      "inputed: [SEND-6-asd]\n",
      "> \u001b[0;32mI (673047) RX: Read 11 bytes: 'SEND-6-asd\n",
      "> '\u001b[0m\n",
      "> \u001b[0;33mW (673047) MAIN: uart_task_handler called ------------------\u001b[0m\n",
      "> \u001b[0;32mI (673047) MAIN: execute_command called\u001b[0m\n",
      "> \u001b[0;32mI (673047) EXE: executing [SEND]\u001b[0m\n",
      "> \u001b[0;32mI (673047) EXE: Sending message to address-6 ...\u001b[0m\n",
      "> \u001b[0;33mW (673057) MAIN: <- Sended Message [asd]\u001b[0m\n",
      "> \u001b[0;32mI (673057) EXE: Command [SEND-6-asd] executed\u001b[0m\n",
      "> \u001b[0;32mI (673077) ROOT: Send opcode [0xc102e5] completed\u001b[0m\n",
      "> \u001b[0;33mW (676097) MAIN: -> Recived Response [Edge Confirmed receive asd]]\u001b[0m\n",
      "> \u001b[0;32mI (717477) ROOT: ESP_BLE_MESH_PROVISIONER_RECV_UNPROV_ADV_PKT_EVT\u001b[0m\n",
      "> \u001b[0;32mI (717477) Device address: 74 4d bd 60 2e 12 \u001b[0m\n",
      "> \u001b[0;32mI (717477) ROOT: Address type 0x00, adv type 0x00\u001b[0m\n",
      "> \u001b[0;32mI (717477) Device UUID: 32 10 74 4d bd 60 2e 12 00 00 00 00 00 00 00 00 \u001b[0m\n",
      "> \u001b[0;32mI (717487) ROOT: oob info 0x0000, bearer PB-GATT\u001b[0m\n",
      "> \u001b[0;32mI (717497) ROOT: ESP_BLE_MESH_PROVISIONER_ADD_UNPROV_DEV_COMP_EVT, err_code 0\u001b[0m\n",
      "> \u001b[0;33mW (747497) BT_APPL: gattc_conn_cb: if=3 st=0 id=3 rsn=0x100\u001b[0m\n"
     ]
    }
   ],
   "source": [
    "import serial\n",
    "import threading\n",
    "\n",
    "port = 'COM7'\n",
    "baud_rate = 115200\n",
    "\n",
    "RED = '\\033[91m'\n",
    "GREEN = '\\033[92m'\n",
    "BLUE = '\\033[94m'\n",
    "END = '\\033[0m'\n",
    "\n",
    "def command_handler(command):\n",
    "    print(BLUE + \"--- python command_handler recived \", '\\\"' + command + '\\\"', END)\n",
    "    print(BLUE + \"--- Will handdler the command in future\", END)\n",
    "\n",
    "# Function to continuously read data from the serial port\n",
    "def read_serial(ser):\n",
    "    while True:\n",
    "        if ser.in_waiting > 0:  # Check if there is data available to read\n",
    "            try:\n",
    "                data = ser.readline().decode().strip()  # Read and decode the data\n",
    "                print(\">\", data)\n",
    "                \n",
    "                if (data[:5] == \"[CMD]\"):\n",
    "                    command_handler(data)\n",
    "            except:\n",
    "                print(\"### Error can't decode readed data\")\n",
    "\n",
    "# Main function\n",
    "def main():\n",
    "    # Open the serial port\n",
    "    ser = serial.Serial(port, baud_rate)  # Replace with your serial port and baud rate\n",
    "    \n",
    "    # Create and start the thread for reading from the serial port\n",
    "    read_thread = threading.Thread(target=read_serial, args=(ser,), daemon=True)\n",
    "    read_thread.start()\n",
    "\n",
    "    # Main thread continues to handle user input and send commands to the serial port\n",
    "    while True:\n",
    "        command = input(\"Enter command: \")\n",
    "        print(\"inputed:\", \"[\" + command.strip() + \"]\")\n",
    "        \n",
    "        input_str = command.strip() + \"\\n\"\n",
    "        ser.write(input_str.encode())  # Send command to the serial port\n",
    "\n",
    "if __name__ == \"__main__\":\n",
    "    main()\n"
   ]
  },
  {
   "cell_type": "code",
   "execution_count": null,
   "id": "c8df72e6-557c-4322-8c8d-556b676e818c",
   "metadata": {},
   "outputs": [],
   "source": [
    "3210744DBD6029AB0000000000000000"
   ]
  },
  {
   "cell_type": "code",
   "execution_count": null,
   "id": "2bf32bcd-4984-4609-afd0-2aeb70b390bb",
   "metadata": {},
   "outputs": [],
   "source": [
    "3210744DBD6029AB00"
   ]
  },
  {
   "cell_type": "code",
   "execution_count": null,
   "id": "d0eb8be3-68e7-4390-b494-f34b41ffc831",
   "metadata": {},
   "outputs": [],
   "source": [
    "3210744DBD601ED4000"
   ]
  }
 ],
 "metadata": {
  "kernelspec": {
   "display_name": "Python 3 (ipykernel)",
   "language": "python",
   "name": "python3"
  },
  "language_info": {
   "codemirror_mode": {
    "name": "ipython",
    "version": 3
   },
   "file_extension": ".py",
   "mimetype": "text/x-python",
   "name": "python",
   "nbconvert_exporter": "python",
   "pygments_lexer": "ipython3",
   "version": "3.11.3"
  }
 },
 "nbformat": 4,
 "nbformat_minor": 5
}
